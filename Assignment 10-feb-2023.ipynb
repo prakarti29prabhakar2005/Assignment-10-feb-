{
 "cells": [
  {
   "cell_type": "markdown",
   "id": "438fa576-e9db-4c7f-b20d-7ac0faa6fc52",
   "metadata": {},
   "source": [
    "OOPs assignment"
   ]
  },
  {
   "cell_type": "markdown",
   "id": "97959f9b-c913-4289-94c1-2e046c015be1",
   "metadata": {},
   "source": [
    "Q1. Which function is used to open a file? What are the different modes of opening a file? Explain each mode\n",
    "of file opening."
   ]
  },
  {
   "cell_type": "code",
   "execution_count": 1,
   "id": "82f86f0c-c3f7-4774-9885-29c6eb923730",
   "metadata": {},
   "outputs": [],
   "source": [
    "# open() function is used to open a file. The various mode of opening a file are ;\n",
    "# read(r) = this is used to read a file\n",
    "# write(w) = this is used to write in a file, if the file doesn't exist then it creat a new file, otherwise it overwrite the content of the file\n",
    "# append(a) = it is used to add content with the already existing content\n",
    "# binary(b) = used to open a file in binary mode\n",
    "# text(t) = used to open a file in text mode\n",
    "# other methods read and write(r+), write and read(w+), append and read(a+)"
   ]
  },
  {
   "cell_type": "markdown",
   "id": "5cfc6150-8b4f-4be6-9062-88c87e1aebd6",
   "metadata": {},
   "source": [
    "Q2. Why close() function is used? Why is it important to close a file?"
   ]
  },
  {
   "cell_type": "code",
   "execution_count": 2,
   "id": "c3d473f2-f7df-4e22-b544-051f9d7df160",
   "metadata": {},
   "outputs": [],
   "source": [
    "# it is used to close a file after necessary operations are performed in the file.\n",
    "# Importance of closing a file:\n",
    "# 1)Explicitly closing a file is a good coding practice, making the code more readable and maintainable.\n",
    "# 2)Operating systems have a limit on the number of files that can be open simultaneously.\n",
    "# 3)Closing the file release the lock, allowing other processes to acess the file.\n",
    "# 4)calling close() ensures that all buffered data is flushed(written) to the file, preventing data loss or corruption."
   ]
  },
  {
   "cell_type": "markdown",
   "id": "f6ee97dc-6e3f-457e-9174-e05accea6d61",
   "metadata": {},
   "source": [
    "Q3. Write a python program to create a text file. Write ‘I want to become a Data Scientist’ in that file. Then\n",
    "close the file. Open this file and read the content of the file."
   ]
  },
  {
   "cell_type": "code",
   "execution_count": 5,
   "id": "d1b2b032-2d65-45dd-bb34-cebfe2a7ffb4",
   "metadata": {},
   "outputs": [],
   "source": [
    "file = open(\"text.txt\", 'w')\n",
    "file.write(\"I want to become a Data Scientist\")\n",
    "file.close()"
   ]
  },
  {
   "cell_type": "code",
   "execution_count": 6,
   "id": "55ddbdc2-3bae-4941-932a-a2d7d63ca0a3",
   "metadata": {},
   "outputs": [
    {
     "name": "stdout",
     "output_type": "stream",
     "text": [
      "I want to become a Data Scientist\n"
     ]
    }
   ],
   "source": [
    "with open(\"text.txt\", \"r\") as file:\n",
    "    data = file.read()\n",
    "file.close()\n",
    "print(data)"
   ]
  },
  {
   "cell_type": "markdown",
   "id": "69c7414f-fe5e-4684-ba6a-9f5cdb770116",
   "metadata": {},
   "source": [
    "Q4. Explain the following with python code: read(), readline() and readlines()."
   ]
  },
  {
   "cell_type": "code",
   "execution_count": 7,
   "id": "1ea0a111-44cc-4274-9322-88607cfef5ea",
   "metadata": {},
   "outputs": [],
   "source": [
    "# read() function is used to read the entire content of the file as a single string.\n",
    "# readline() is used to read one line of the file.\n",
    "# readlines() read all the lines of the file one by one and returns them as a list of strings."
   ]
  },
  {
   "cell_type": "markdown",
   "id": "d68eff24-480a-4c9c-a501-efe1d5785a40",
   "metadata": {},
   "source": [
    "Q5. Explain why with statement is used with open(). What is the advantage of using with statement and\n",
    "open() together?"
   ]
  },
  {
   "cell_type": "code",
   "execution_count": 8,
   "id": "dfe5ecfb-c49c-47c1-82b5-318fce847bab",
   "metadata": {},
   "outputs": [],
   "source": [
    "# using 'with' makes the code cleaner and more readable. There's no need to explicitly close the file using 'file.close()' , reducing the chances of forgetting to close the file and leading to resourse leaks. It ensures that the file is not left open in case of an error, which could otherwise lead to data corruption or other issues."
   ]
  },
  {
   "cell_type": "markdown",
   "id": "0fee0eea-1696-4ff2-9fb9-f208547c2ff3",
   "metadata": {},
   "source": [
    "Q6. Explain the write() and writelines() functions. Give a suitable example."
   ]
  },
  {
   "cell_type": "code",
   "execution_count": 9,
   "id": "5b21fcbd-efd2-4153-b7a2-97ce587541f3",
   "metadata": {},
   "outputs": [],
   "source": [
    "# the 'write()' function writes a single string to a file. The 'writelines()' function writes a list of strings to a file. unlike 'write()', it doesn't automatically add newline characters; you must include them if needed."
   ]
  },
  {
   "cell_type": "code",
   "execution_count": 10,
   "id": "cd355692-00c4-4a0a-9c7d-96d2dbf60b8b",
   "metadata": {},
   "outputs": [
    {
     "name": "stdout",
     "output_type": "stream",
     "text": [
      "Hello world!I am learning data scienceOn physics wallah platform\n"
     ]
    }
   ],
   "source": [
    "with open('sample1.txt', 'w') as file:\n",
    "    file.write(\"Hello world!\")\n",
    "    file.write(\"I am learning data science\")\n",
    "    file.write(\"On physics wallah platform\")\n",
    "    \n",
    "with open('sample1.txt', 'r') as file:\n",
    "    content = file.read()\n",
    "    print(content)"
   ]
  },
  {
   "cell_type": "code",
   "execution_count": null,
   "id": "8f6157ec-1064-4064-9c8f-0498d8e31a60",
   "metadata": {},
   "outputs": [],
   "source": [
    "l = [\"Hello world!\", \"I am learning data science\", \"On physics wallah platform\"]\n",
    "\n",
    "with open('sample1.txt', 'w') as file:\n",
    "    file.write(\"Hello world!\")\n",
    "    file.write(\"I am learning data science\")\n",
    "    file.write(\"On physics wallah platform\")\n",
    "    \n",
    "with open('sample1.txt', 'r') as file:\n",
    "    content = file.read()\n",
    "    print(content)"
   ]
  }
 ],
 "metadata": {
  "kernelspec": {
   "display_name": "Python 3 (ipykernel)",
   "language": "python",
   "name": "python3"
  },
  "language_info": {
   "codemirror_mode": {
    "name": "ipython",
    "version": 3
   },
   "file_extension": ".py",
   "mimetype": "text/x-python",
   "name": "python",
   "nbconvert_exporter": "python",
   "pygments_lexer": "ipython3",
   "version": "3.10.8"
  }
 },
 "nbformat": 4,
 "nbformat_minor": 5
}
